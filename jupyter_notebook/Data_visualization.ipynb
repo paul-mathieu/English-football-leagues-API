{
 "cells": [
  {
   "cell_type": "code",
   "execution_count": 23,
   "metadata": {},
   "outputs": [],
   "source": [
    "import pandas as pd"
   ]
  },
  {
   "cell_type": "code",
   "execution_count": 24,
   "metadata": {},
   "outputs": [],
   "source": [
    "csv_file_name = 'winner of league-one.csv' #please put the name of the csv file you want to read"
   ]
  },
  {
   "cell_type": "code",
   "execution_count": 25,
   "metadata": {},
   "outputs": [],
   "source": [
    "data = pd.read_csv(csv_file_name, index_col=[0],sep=',', encoding=\"utf-8\")"
   ]
  },
  {
   "cell_type": "code",
   "execution_count": 26,
   "metadata": {},
   "outputs": [
    {
     "data": {
      "text/html": [
       "<div>\n",
       "<style scoped>\n",
       "    .dataframe tbody tr th:only-of-type {\n",
       "        vertical-align: middle;\n",
       "    }\n",
       "\n",
       "    .dataframe tbody tr th {\n",
       "        vertical-align: top;\n",
       "    }\n",
       "\n",
       "    .dataframe thead th {\n",
       "        text-align: right;\n",
       "    }\n",
       "</style>\n",
       "<table border=\"1\" class=\"dataframe\">\n",
       "  <thead>\n",
       "    <tr style=\"text-align: right;\">\n",
       "      <th></th>\n",
       "      <th>season</th>\n",
       "      <th>winner</th>\n",
       "    </tr>\n",
       "  </thead>\n",
       "  <tbody>\n",
       "    <tr>\n",
       "      <th>0</th>\n",
       "      <td>2018/2019</td>\n",
       "      <td>Luton Town</td>\n",
       "    </tr>\n",
       "    <tr>\n",
       "      <th>1</th>\n",
       "      <td>2017/2018</td>\n",
       "      <td>Wigan Athletic</td>\n",
       "    </tr>\n",
       "    <tr>\n",
       "      <th>2</th>\n",
       "      <td>2016/2017</td>\n",
       "      <td>Sheffield United</td>\n",
       "    </tr>\n",
       "    <tr>\n",
       "      <th>3</th>\n",
       "      <td>2015/2016</td>\n",
       "      <td>Wigan Athletic</td>\n",
       "    </tr>\n",
       "    <tr>\n",
       "      <th>4</th>\n",
       "      <td>2014/2015</td>\n",
       "      <td>Bristol City</td>\n",
       "    </tr>\n",
       "    <tr>\n",
       "      <th>5</th>\n",
       "      <td>2013/2014</td>\n",
       "      <td>Wolverhampton Wanderers</td>\n",
       "    </tr>\n",
       "    <tr>\n",
       "      <th>6</th>\n",
       "      <td>2012/2013</td>\n",
       "      <td>Doncaster Rovers</td>\n",
       "    </tr>\n",
       "    <tr>\n",
       "      <th>7</th>\n",
       "      <td>2011/2012</td>\n",
       "      <td>Charlton Athletic</td>\n",
       "    </tr>\n",
       "    <tr>\n",
       "      <th>8</th>\n",
       "      <td>2010/2011</td>\n",
       "      <td>Brighton &amp; Hove Albion</td>\n",
       "    </tr>\n",
       "    <tr>\n",
       "      <th>9</th>\n",
       "      <td>2009/2010</td>\n",
       "      <td>Norwich City</td>\n",
       "    </tr>\n",
       "    <tr>\n",
       "      <th>10</th>\n",
       "      <td>2008/2009</td>\n",
       "      <td>Leicester City</td>\n",
       "    </tr>\n",
       "    <tr>\n",
       "      <th>11</th>\n",
       "      <td>2007/2008</td>\n",
       "      <td>Swansea City</td>\n",
       "    </tr>\n",
       "    <tr>\n",
       "      <th>12</th>\n",
       "      <td>2006/2007</td>\n",
       "      <td>Scunthorpe United</td>\n",
       "    </tr>\n",
       "    <tr>\n",
       "      <th>13</th>\n",
       "      <td>2005/2006</td>\n",
       "      <td>Southend United</td>\n",
       "    </tr>\n",
       "    <tr>\n",
       "      <th>14</th>\n",
       "      <td>2004/2005</td>\n",
       "      <td>Luton Town</td>\n",
       "    </tr>\n",
       "    <tr>\n",
       "      <th>15</th>\n",
       "      <td>2003/2004</td>\n",
       "      <td>Plymouth Argyle</td>\n",
       "    </tr>\n",
       "    <tr>\n",
       "      <th>16</th>\n",
       "      <td>2002/2003</td>\n",
       "      <td>Wigan Athletic</td>\n",
       "    </tr>\n",
       "    <tr>\n",
       "      <th>17</th>\n",
       "      <td>2001/2002</td>\n",
       "      <td>Brighton &amp; Hove Albion</td>\n",
       "    </tr>\n",
       "    <tr>\n",
       "      <th>18</th>\n",
       "      <td>2000/2001</td>\n",
       "      <td>Millwall</td>\n",
       "    </tr>\n",
       "    <tr>\n",
       "      <th>19</th>\n",
       "      <td>1999/2000</td>\n",
       "      <td>Preston North End</td>\n",
       "    </tr>\n",
       "    <tr>\n",
       "      <th>20</th>\n",
       "      <td>1998/1999</td>\n",
       "      <td>Fulham</td>\n",
       "    </tr>\n",
       "    <tr>\n",
       "      <th>21</th>\n",
       "      <td>1997/1998</td>\n",
       "      <td>Watford</td>\n",
       "    </tr>\n",
       "    <tr>\n",
       "      <th>22</th>\n",
       "      <td>1996/1997</td>\n",
       "      <td>Bury</td>\n",
       "    </tr>\n",
       "    <tr>\n",
       "      <th>23</th>\n",
       "      <td>1995/1996</td>\n",
       "      <td>Swindon Town</td>\n",
       "    </tr>\n",
       "    <tr>\n",
       "      <th>24</th>\n",
       "      <td>1994/1995</td>\n",
       "      <td>Birmingham City</td>\n",
       "    </tr>\n",
       "    <tr>\n",
       "      <th>25</th>\n",
       "      <td>1993/1994</td>\n",
       "      <td>Reading</td>\n",
       "    </tr>\n",
       "  </tbody>\n",
       "</table>\n",
       "</div>"
      ],
      "text/plain": [
       "       season                   winner\n",
       "0   2018/2019               Luton Town\n",
       "1   2017/2018           Wigan Athletic\n",
       "2   2016/2017         Sheffield United\n",
       "3   2015/2016           Wigan Athletic\n",
       "4   2014/2015             Bristol City\n",
       "5   2013/2014  Wolverhampton Wanderers\n",
       "6   2012/2013         Doncaster Rovers\n",
       "7   2011/2012        Charlton Athletic\n",
       "8   2010/2011   Brighton & Hove Albion\n",
       "9   2009/2010             Norwich City\n",
       "10  2008/2009           Leicester City\n",
       "11  2007/2008             Swansea City\n",
       "12  2006/2007        Scunthorpe United\n",
       "13  2005/2006          Southend United\n",
       "14  2004/2005               Luton Town\n",
       "15  2003/2004          Plymouth Argyle\n",
       "16  2002/2003           Wigan Athletic\n",
       "17  2001/2002   Brighton & Hove Albion\n",
       "18  2000/2001                 Millwall\n",
       "19  1999/2000        Preston North End\n",
       "20  1998/1999                   Fulham\n",
       "21  1997/1998                  Watford\n",
       "22  1996/1997                     Bury\n",
       "23  1995/1996             Swindon Town\n",
       "24  1994/1995          Birmingham City\n",
       "25  1993/1994                  Reading"
      ]
     },
     "execution_count": 26,
     "metadata": {},
     "output_type": "execute_result"
    }
   ],
   "source": [
    "data.iloc[:49] # we display the first 50 rows"
   ]
  },
  {
   "cell_type": "code",
   "execution_count": 27,
   "metadata": {},
   "outputs": [],
   "source": [
    "craftcans = pd.read_csv(csv_file_name, sep=',', encoding=\"utf-8\")"
   ]
  },
  {
   "cell_type": "code",
   "execution_count": 28,
   "metadata": {},
   "outputs": [],
   "source": [
    "col_list = [\"id\"] #to add an id col"
   ]
  },
  {
   "cell_type": "code",
   "execution_count": 29,
   "metadata": {},
   "outputs": [],
   "source": [
    "for col in data.columns:  # we set the table col name\n",
    "    col_list.append(col)"
   ]
  },
  {
   "cell_type": "code",
   "execution_count": 30,
   "metadata": {},
   "outputs": [],
   "source": [
    "craftcans.columns = col_list"
   ]
  },
  {
   "cell_type": "code",
   "execution_count": 31,
   "metadata": {},
   "outputs": [
    {
     "name": "stdout",
     "output_type": "stream",
     "text": [
      "   id     season            winner\n",
      "0   0  2018/2019        Luton Town\n",
      "1   1  2017/2018    Wigan Athletic\n",
      "2   2  2016/2017  Sheffield United\n",
      "3   3  2015/2016    Wigan Athletic\n",
      "4   4  2014/2015      Bristol City\n"
     ]
    }
   ],
   "source": [
    "print(craftcans.head(5))"
   ]
  }
 ],
 "metadata": {
  "kernelspec": {
   "display_name": "Python 3",
   "language": "python",
   "name": "python3"
  },
  "language_info": {
   "codemirror_mode": {
    "name": "ipython",
    "version": 3
   },
   "file_extension": ".py",
   "mimetype": "text/x-python",
   "name": "python",
   "nbconvert_exporter": "python",
   "pygments_lexer": "ipython3",
   "version": "3.7.6"
  }
 },
 "nbformat": 4,
 "nbformat_minor": 4
}
